{
  "cells": [
    {
      "cell_type": "markdown",
      "metadata": {
        "id": "VNPce8Gaz5uF"
      },
      "source": [
        "# Assignment 1 Development of a Neural Network for Microstructure-Property Predictions\n",
        "\n",
        "Students: Ian Marchetti Meirelles, Juan Manuel Bonilla"
      ]
    },
    {
      "cell_type": "markdown",
      "metadata": {
        "id": "8hy4kIPaMbRe"
      },
      "source": [
        "# Notebook for Training the Model on Google Colab\n",
        "\n",
        "> ⚠️ **Note:**  \n",
        "> This notebook is intended for training the model on **Google Colab**.  \n",
        "> It clones the project repository for access to the necessary code and data.  \n",
        "> However, the notebook itself is also **committed in the repository**, so paths and setup steps may need to be adjusted accordingly depending on your environment.\n"
      ]
    },
    {
      "cell_type": "markdown",
      "metadata": {
        "id": "LSHubXejMgKz"
      },
      "source": [
        "## Cloning repository and unzip data:\n",
        "Obs: do not forget to also add the material_properties.csv inside the folder \"data/properties\" after cloning."
      ]
    },
    {
      "cell_type": "code",
      "execution_count": 2,
      "metadata": {
        "colab": {
          "base_uri": "https://localhost:8080/"
        },
        "id": "JDHE7FY0IYXB",
        "outputId": "0309c88f-02b9-4e4a-9fa7-6069ad527795"
      },
      "outputs": [
        {
          "name": "stdout",
          "output_type": "stream",
          "text": [
            "Cloning into 'Microstructure-Predictions'...\n",
            "remote: Enumerating objects: 119, done.\u001b[K\n",
            "remote: Counting objects: 100% (119/119), done.\u001b[K\n",
            "remote: Compressing objects: 100% (79/79), done.\u001b[K\n",
            "remote: Total 119 (delta 47), reused 88 (delta 28), pack-reused 0 (from 0)\u001b[K\n",
            "Receiving objects: 100% (119/119), 2.36 MiB | 5.97 MiB/s, done.\n",
            "Resolving deltas: 100% (47/47), done.\n",
            "replace data/npy_images/.gitkeep? [y]es, [n]o, [A]ll, [N]one, [r]ename: n\n"
          ]
        }
      ],
      "source": [
        "!git clone https://github.com/ianmm2d/Microstructure-Predictions.git\n",
        "import os\n",
        "\n",
        "# Change working directory from /content to your repo folder\n",
        "os.chdir('/content/Microstructure-Predictions')\n",
        "\n",
        "# Now unzip your data\n",
        "!unzip -q data/npy_images/microstructures_zip.zip -d data/npy_images/"
      ]
    },
    {
      "cell_type": "markdown",
      "metadata": {
        "id": "G2mlDc2SL7bm"
      },
      "source": [
        "## Importing modules and libraries:"
      ]
    },
    {
      "cell_type": "code",
      "execution_count": 1,
      "metadata": {
        "colab": {
          "base_uri": "https://localhost:8080/"
        },
        "id": "2-9uJdG6THYC",
        "outputId": "70322ac0-7cfb-4678-f098-10efac179f57"
      },
      "outputs": [
        {
          "name": "stdout",
          "output_type": "stream",
          "text": [
            "/content/Microstructure-Predictions\n"
          ]
        }
      ],
      "source": [
        "%cd /content/Microstructure-Predictions"
      ]
    },
    {
      "cell_type": "code",
      "execution_count": 2,
      "metadata": {
        "colab": {
          "base_uri": "https://localhost:8080/"
        },
        "id": "1VgkcIa0ew95",
        "outputId": "cfa5b637-8399-4541-8d5a-c743682d50a3"
      },
      "outputs": [
        {
          "name": "stdout",
          "output_type": "stream",
          "text": [
            "Imports successful!\n"
          ]
        }
      ],
      "source": [
        "from src.pipeline import DataPipeline\n",
        "from src.model import CNN\n",
        "from src.train import train_and_evaluate, plot_loss_curves\n",
        "from src.inference import load_model, predict, evaluate_predictions\n",
        "import numpy as np\n",
        "import torch\n",
        "import matplotlib.pyplot as plt\n",
        "print(\"Imports successful!\")"
      ]
    },
    {
      "cell_type": "markdown",
      "metadata": {
        "id": "gsfN2QMeMorG"
      },
      "source": [
        "## Run data pipeline:"
      ]
    },
    {
      "cell_type": "code",
      "execution_count": 23,
      "metadata": {
        "id": "MXanRL5hLz3R"
      },
      "outputs": [],
      "source": [
        "#Data loading and preprocessing\n",
        "image_dir = 'data/npy_images'\n",
        "label_path = 'data/properties/material_property.csv'\n",
        "batch_size = 16\n",
        "test_split = 0.9 # 90% unused during training (9000 samples)\n",
        "val_split = 0.02 # 2% of data being used for validation, 8% for training (200 and 800 samples)\n",
        "pipeline = DataPipeline(image_dir, label_path,batch_size, test_split, val_split)\n",
        "dataloaders = pipeline.load()\n",
        "train_loader = dataloaders['train']\n",
        "val_loader = dataloaders['val']\n",
        "test_loader = dataloaders['test']"
      ]
    },
    {
      "cell_type": "markdown",
      "metadata": {
        "id": "Qiw5hsXGMsCt"
      },
      "source": [
        "## Train settings:"
      ]
    },
    {
      "cell_type": "code",
      "execution_count": 30,
      "metadata": {
        "id": "tiYbdYkgL08Z"
      },
      "outputs": [],
      "source": [
        "# Initialize the model, loss function, and optimizer\n",
        "sample_input, _ = next(iter(train_loader))\n",
        "_, c, h, w = sample_input.shape\n",
        "model = CNN(input_channels=c, input_height=h, input_width=w)\n",
        "loss = torch.nn.MSELoss()\n",
        "lr = 1e-3\n",
        "optimizer = torch.optim.Adam(model.parameters(), lr, weight_decay=1e-5)\n",
        "epochs = 50\n",
        "seed = 30"
      ]
    },
    {
      "cell_type": "markdown",
      "metadata": {
        "id": "acb3vGoYMwad"
      },
      "source": [
        "## Training:"
      ]
    },
    {
      "cell_type": "code",
      "execution_count": 31,
      "metadata": {
        "colab": {
          "base_uri": "https://localhost:8080/",
          "height": 1000
        },
        "id": "oyksM93XL2Kr",
        "outputId": "1cf5fb0a-4adf-44e3-b2f7-d4a0f83e270c"
      },
      "outputs": [
        {
          "name": "stdout",
          "output_type": "stream",
          "text": [
            "Epoch 1/50, Train Loss: 0.2682, Val Loss: 0.0474\n",
            "Epoch 2/50, Train Loss: 0.0267, Val Loss: 0.0211\n",
            "Epoch 3/50, Train Loss: 0.0151, Val Loss: 0.0179\n",
            "Epoch 4/50, Train Loss: 0.0214, Val Loss: 0.0185\n",
            "Epoch 5/50, Train Loss: 0.0113, Val Loss: 0.0195\n",
            "Epoch 6/50, Train Loss: 0.0106, Val Loss: 0.0244\n",
            "Epoch 7/50, Train Loss: 0.0096, Val Loss: 0.0114\n",
            "Epoch 8/50, Train Loss: 0.0038, Val Loss: 0.0127\n",
            "Epoch 9/50, Train Loss: 0.0035, Val Loss: 0.0130\n",
            "Epoch 10/50, Train Loss: 0.0041, Val Loss: 0.0103\n",
            "Epoch 11/50, Train Loss: 0.0031, Val Loss: 0.0114\n",
            "Epoch 12/50, Train Loss: 0.0028, Val Loss: 0.0136\n",
            "Epoch 13/50, Train Loss: 0.0021, Val Loss: 0.0107\n",
            "Epoch 14/50, Train Loss: 0.0018, Val Loss: 0.0099\n",
            "Epoch 15/50, Train Loss: 0.0023, Val Loss: 0.0093\n",
            "Epoch 16/50, Train Loss: 0.0017, Val Loss: 0.0110\n",
            "Epoch 17/50, Train Loss: 0.0011, Val Loss: 0.0108\n",
            "Epoch 18/50, Train Loss: 0.0028, Val Loss: 0.0106\n",
            "Epoch 19/50, Train Loss: 0.0030, Val Loss: 0.0106\n",
            "Epoch 20/50, Train Loss: 0.0016, Val Loss: 0.0096\n",
            "Epoch 21/50, Train Loss: 0.0009, Val Loss: 0.0125\n",
            "Epoch 22/50, Train Loss: 0.0006, Val Loss: 0.0092\n",
            "Epoch 23/50, Train Loss: 0.0006, Val Loss: 0.0094\n",
            "Epoch 24/50, Train Loss: 0.0007, Val Loss: 0.0095\n",
            "Epoch 25/50, Train Loss: 0.0006, Val Loss: 0.0099\n",
            "Epoch 26/50, Train Loss: 0.0009, Val Loss: 0.0143\n",
            "Epoch 27/50, Train Loss: 0.0015, Val Loss: 0.0106\n",
            "Epoch 28/50, Train Loss: 0.0006, Val Loss: 0.0097\n",
            "Epoch 29/50, Train Loss: 0.0009, Val Loss: 0.0096\n",
            "Epoch 30/50, Train Loss: 0.0014, Val Loss: 0.0167\n",
            "Epoch 31/50, Train Loss: 0.0028, Val Loss: 0.0209\n",
            "Epoch 32/50, Train Loss: 0.0024, Val Loss: 0.0107\n",
            "Epoch 33/50, Train Loss: 0.0023, Val Loss: 0.0162\n",
            "Epoch 34/50, Train Loss: 0.0066, Val Loss: 0.0148\n",
            "Epoch 35/50, Train Loss: 0.0051, Val Loss: 0.0173\n",
            "Epoch 36/50, Train Loss: 0.0044, Val Loss: 0.0136\n",
            "Epoch 37/50, Train Loss: 0.0061, Val Loss: 0.0177\n",
            "Epoch 38/50, Train Loss: 0.0027, Val Loss: 0.0106\n",
            "Epoch 39/50, Train Loss: 0.0011, Val Loss: 0.0098\n",
            "Epoch 40/50, Train Loss: 0.0011, Val Loss: 0.0138\n",
            "Epoch 41/50, Train Loss: 0.0012, Val Loss: 0.0103\n",
            "Epoch 42/50, Train Loss: 0.0007, Val Loss: 0.0113\n",
            "Epoch 43/50, Train Loss: 0.0009, Val Loss: 0.0106\n",
            "Epoch 44/50, Train Loss: 0.0003, Val Loss: 0.0099\n",
            "Epoch 45/50, Train Loss: 0.0002, Val Loss: 0.0099\n",
            "Epoch 46/50, Train Loss: 0.0002, Val Loss: 0.0106\n",
            "Epoch 47/50, Train Loss: 0.0002, Val Loss: 0.0100\n",
            "Epoch 48/50, Train Loss: 0.0002, Val Loss: 0.0106\n",
            "Epoch 49/50, Train Loss: 0.0004, Val Loss: 0.0128\n",
            "Epoch 50/50, Train Loss: 0.0006, Val Loss: 0.0111\n"
          ]
        },
        {
          "data": {
            "image/png": "[encoded data removed]",
            "text/plain": [
              "<Figure size 1000x500 with 1 Axes>"
            ]
          },
          "metadata": {},
          "output_type": "display_data"
        }
      ],
      "source": [
        "# Train the model\n",
        "train_losses, val_losses = train_and_evaluate(model, train_loader, val_loader, loss, optimizer, epochs, seed=seed)\n",
        "# Plot training and validation loss curves\n",
        "plot_loss_curves(train_losses, val_losses)"
      ]
    },
    {
      "cell_type": "markdown",
      "metadata": {
        "id": "VSKTF3jxMyre"
      },
      "source": [
        "## Evaluating model for train dataset:\n",
        "\n",
        "**Evaluation Metric:**\n",
        "\n",
        "$$\n",
        "\\text{accuracy} = \\frac{| E_{eff}^{\\text{predicted}} -  E_{eff}^{\\text{true}} |}{E_{eff}^{\\text{true}}}\n",
        "$$\n",
        "\n",
        "This metric represents the **relative error** between the predicted and true effective Young’s modulus values.\n",
        "\n",
        "We define a prediction as *accurate* if its relative error is **below 0.3**, i.e., within 30% of the true value.\n",
        "\n",
        "To assess model performance, we implemented the function `evaluate_predictions`, which takes a dataloader as input and returns:\n",
        "\n",
        "- The **percentage of predictions** within the 30% relative error threshold;\n",
        "- The **average relative error** (mean accuracy);\n",
        "- Optionally, prints verbose details for inspection;"
      ]
    },
    {
      "cell_type": "code",
      "execution_count": 33,
      "metadata": {
        "colab": {
          "base_uri": "https://localhost:8080/"
        },
        "id": "OJZJ1U7i4nef",
        "outputId": "a84bf136-0e83-49a6-ad1a-3c9e2df81146"
      },
      "outputs": [
        {
          "name": "stdout",
          "output_type": "stream",
          "text": [
            "Sample predictions and targets:\n",
            "Predictions: [[1.4662710e+09]\n",
            " [2.8156393e+09]\n",
            " [3.3064504e+09]\n",
            " [3.3149688e+09]\n",
            " [1.3374803e+09]\n",
            " [1.2093283e+09]\n",
            " [3.3164864e+09]\n",
            " [4.2377866e+09]\n",
            " [4.1328558e+09]\n",
            " [4.1208643e+09]]\n",
            "Targets: [[1.4771596e+09]\n",
            " [2.7977331e+09]\n",
            " [3.3425820e+09]\n",
            " [3.3172019e+09]\n",
            " [1.3391251e+09]\n",
            " [1.2276513e+09]\n",
            " [3.3171116e+09]\n",
            " [4.2354655e+09]\n",
            " [4.1403799e+09]\n",
            " [4.1565847e+09]]\n",
            "Percentage of data inside threshold accuracy: 100.00%\n",
            "Percentage of Mean relative error for inference: 0.6146%\n"
          ]
        }
      ],
      "source": [
        "sample_input, _ = next(iter(train_loader))\n",
        "device = torch.device(\"cuda\" if torch.cuda.is_available() else \"cpu\")\n",
        "# Make predictions\n",
        "predictions, targets = predict(model, dataloader=train_loader, device=device, pipeline=pipeline)\n",
        "# Evaluate predictions\n",
        "mean_error, accuracy = evaluate_predictions(predictions, targets, threshold=0.30, verbose=True)"
      ]
    },
    {
      "cell_type": "markdown",
      "metadata": {
        "id": "gdnxVlFQM1ZP"
      },
      "source": [
        "## Evaluating model for val dataset:"
      ]
    },
    {
      "cell_type": "code",
      "execution_count": 54,
      "metadata": {
        "colab": {
          "base_uri": "https://localhost:8080/"
        },
        "id": "i3D2SAKI40Nf",
        "outputId": "720fce9a-ceab-4f4d-92a4-c6d095162db0"
      },
      "outputs": [
        {
          "name": "stdout",
          "output_type": "stream",
          "text": [
            "Sample predictions and targets:\n",
            "Predictions: [[4.3428772e+09]\n",
            " [2.2640292e+09]\n",
            " [3.4295227e+09]\n",
            " [2.8320020e+09]\n",
            " [4.3059425e+09]\n",
            " [4.3585674e+09]\n",
            " [2.9519910e+09]\n",
            " [4.2762557e+09]\n",
            " [3.6846305e+09]\n",
            " [3.8131512e+09]]\n",
            "Targets: [[4.3624986e+09]\n",
            " [2.3530941e+09]\n",
            " [3.3073111e+09]\n",
            " [2.9112576e+09]\n",
            " [4.1777917e+09]\n",
            " [4.2480031e+09]\n",
            " [2.9385900e+09]\n",
            " [4.3989489e+09]\n",
            " [3.7204564e+09]\n",
            " [4.1537554e+09]]\n",
            "Percentage of data inside threshold accuracy: 100.00%\n",
            "Percentage of Mean relative error for inference: 2.7316%\n"
          ]
        }
      ],
      "source": [
        "sample_input, _ = next(iter(train_loader))\n",
        "device = torch.device(\"cuda\" if torch.cuda.is_available() else \"cpu\")\n",
        "# Make predictions\n",
        "predictions, targets = predict(model, dataloader=val_loader, device=device, pipeline=pipeline)\n",
        "# Evaluate predictions\n",
        "mean_error, accuracy = evaluate_predictions(predictions, targets, threshold=0.3, verbose=True)"
      ]
    },
    {
      "cell_type": "markdown",
      "metadata": {
        "id": "yuGcgYhU46gk"
      },
      "source": [
        "## Evaluating model for test dataset:"
      ]
    },
    {
      "cell_type": "code",
      "execution_count": 55,
      "metadata": {
        "colab": {
          "base_uri": "https://localhost:8080/"
        },
        "id": "Lyj-K1XU45-N",
        "outputId": "ca63ce88-bcf9-40a6-d020-5d51c4e9c9bf"
      },
      "outputs": [
        {
          "name": "stdout",
          "output_type": "stream",
          "text": [
            "Sample predictions and targets:\n",
            "Predictions: [[3.6123351e+09]\n",
            " [2.1222505e+09]\n",
            " [1.5667692e+09]\n",
            " [3.1458253e+09]\n",
            " [1.8651325e+09]\n",
            " [4.1498849e+09]\n",
            " [1.9301453e+09]\n",
            " [4.0610555e+09]\n",
            " [1.5236933e+09]\n",
            " [3.2406170e+09]]\n",
            "Targets: [[3.4213412e+09]\n",
            " [2.1414378e+09]\n",
            " [1.6511424e+09]\n",
            " [3.1675057e+09]\n",
            " [1.9268983e+09]\n",
            " [4.2169500e+09]\n",
            " [1.9043739e+09]\n",
            " [4.1143109e+09]\n",
            " [1.5183639e+09]\n",
            " [3.1530826e+09]]\n",
            "Percentage of data inside threshold accuracy: 100.00%\n",
            "Percentage of Mean relative error for inference: 2.5396%\n"
          ]
        }
      ],
      "source": [
        "sample_input, _ = next(iter(train_loader))\n",
        "device = torch.device(\"cuda\" if torch.cuda.is_available() else \"cpu\")\n",
        "# Make predictions\n",
        "predictions, targets = predict(model, dataloader=test_loader, device=device, pipeline=pipeline)\n",
        "# Evaluate predictions\n",
        "mean_error, accuracy = evaluate_predictions(predictions, targets, threshold=0.30, verbose=True)"
      ]
    },
    {
      "cell_type": "markdown",
      "metadata": {
        "id": "noJL-VW3p8B7"
      },
      "source": [
        "## Saving model weights:"
      ]
    },
    {
      "cell_type": "code",
      "execution_count": 45,
      "metadata": {
        "colab": {
          "base_uri": "https://localhost:8080/"
        },
        "id": "X7kPa05_p9Yr",
        "outputId": "04e920f2-70bc-49d2-a8d7-8681ab9fe92f"
      },
      "outputs": [
        {
          "name": "stdout",
          "output_type": "stream",
          "text": [
            "Model weights saved to data/models/model_weights.pth\n"
          ]
        }
      ],
      "source": [
        "import os\n",
        "import torch\n",
        "\n",
        "model_name = 'model_weights.pth'\n",
        "folder_path = 'data/models'\n",
        "SAVE_PATH = os.path.join(folder_path, model_name)\n",
        "\n",
        "# Create folder if it doesn't exist\n",
        "os.makedirs(folder_path, exist_ok=True)\n",
        "\n",
        "# Save only the state_dict\n",
        "torch.save(model.state_dict(), SAVE_PATH)\n",
        "\n",
        "print(f\"Model weights saved to {SAVE_PATH}\")"
      ]
    },
    {
      "cell_type": "markdown",
      "metadata": {
        "id": "89GlFkgQyhhV"
      },
      "source": [
        "## Load Model:"
      ]
    },
    {
      "cell_type": "code",
      "execution_count": 46,
      "metadata": {
        "id": "siUwOlmoyimv"
      },
      "outputs": [],
      "source": [
        "loaded_model = load_model(model=model, model_path=SAVE_PATH, device=device)"
      ]
    },
    {
      "cell_type": "code",
      "execution_count": 48,
      "metadata": {
        "colab": {
          "base_uri": "https://localhost:8080/"
        },
        "id": "ecjvsXCjzRb5",
        "outputId": "30d870cb-bef4-4062-b7d9-cc6918d49d8c"
      },
      "outputs": [
        {
          "name": "stdout",
          "output_type": "stream",
          "text": [
            "Sample predictions and targets:\n",
            "Predictions: [[1.4207421e+09]\n",
            " [2.4275026e+09]\n",
            " [1.1792365e+09]\n",
            " [2.1634842e+09]\n",
            " [3.4309553e+09]\n",
            " [4.3180820e+09]\n",
            " [4.0854518e+09]\n",
            " [1.2604357e+09]\n",
            " [3.8431050e+09]\n",
            " [2.1327375e+09]]\n",
            "Targets: [[1.4641556e+09]\n",
            " [2.3614008e+09]\n",
            " [1.2440131e+09]\n",
            " [2.2328896e+09]\n",
            " [3.3925517e+09]\n",
            " [4.5163366e+09]\n",
            " [4.1231053e+09]\n",
            " [1.2614340e+09]\n",
            " [3.7789663e+09]\n",
            " [2.1448694e+09]]\n",
            "Percentage of data inside threshold accuracy: 100.00%\n",
            "Percentage of Mean relative error for inference: 2.5396%\n"
          ]
        }
      ],
      "source": [
        "loaded_model.eval()\n",
        "loaded_model.to(device)\n",
        "predictions, targets = predict(loaded_model, dataloader=test_loader, device=device, pipeline=pipeline)\n",
        "mean_error, accuracy = evaluate_predictions(predictions, targets, threshold=0.30, verbose=True)"
      ]
    }
  ],
  "metadata": {
    "accelerator": "GPU",
    "colab": {
      "gpuType": "T4",
      "provenance": []
    },
    "kernelspec": {
      "display_name": "Python 3",
      "name": "python3"
    },
    "language_info": {
      "name": "python"
    }
  },
  "nbformat": 4,
  "nbformat_minor": 0
}
