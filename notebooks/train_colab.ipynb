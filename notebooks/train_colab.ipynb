{
  "nbformat": 4,
  "nbformat_minor": 0,
  "metadata": {
    "colab": {
      "provenance": [],
      "gpuType": "T4"
    },
    "kernelspec": {
      "name": "python3",
      "display_name": "Python 3"
    },
    "language_info": {
      "name": "python"
    },
    "accelerator": "GPU"
  },
  "cells": [
    {
      "cell_type": "markdown",
      "source": [
        "# Notebook for Training Model on Google Colab"
      ],
      "metadata": {
        "id": "8hy4kIPaMbRe"
      }
    },
    {
      "cell_type": "markdown",
      "source": [
        "Cloning repository and unzip data:"
      ],
      "metadata": {
        "id": "LSHubXejMgKz"
      }
    },
    {
      "cell_type": "code",
      "execution_count": null,
      "metadata": {
        "colab": {
          "base_uri": "https://localhost:8080/"
        },
        "id": "JDHE7FY0IYXB",
        "outputId": "4e700164-af8b-4a3d-d3fa-7abf925e0377"
      },
      "outputs": [
        {
          "output_type": "stream",
          "name": "stdout",
          "text": [
            "fatal: destination path 'Microstructure-Predictions' already exists and is not an empty directory.\n",
            "replace data/npy_images/microstructure_00003.npy? [y]es, [n]o, [A]ll, [N]one, [r]ename: "
          ]
        }
      ],
      "source": [
        "!git clone https://github.com/ianmm2d/Microstructure-Predictions.git\n",
        "import os\n",
        "\n",
        "# Change working directory from /content to your repo folder\n",
        "os.chdir('/content/Microstructure-Predictions')\n",
        "\n",
        "# Now unzip your data\n",
        "!unzip -q data/npy_images/microstructures_zip.zip -d data/npy_images/"
      ]
    },
    {
      "cell_type": "markdown",
      "source": [
        "Importing modules and libraries:"
      ],
      "metadata": {
        "id": "G2mlDc2SL7bm"
      }
    },
    {
      "cell_type": "code",
      "source": [
        "%cd /content/Microstructure-Predictions"
      ],
      "metadata": {
        "colab": {
          "base_uri": "https://localhost:8080/"
        },
        "id": "2-9uJdG6THYC",
        "outputId": "3e448e69-fd61-4bd3-b20f-7056a0474d00"
      },
      "execution_count": 1,
      "outputs": [
        {
          "output_type": "stream",
          "name": "stdout",
          "text": [
            "/content/Microstructure-Predictions\n"
          ]
        }
      ]
    },
    {
      "cell_type": "code",
      "source": [
        "from src.pipeline import DataPipeline\n",
        "from src.model import CNN\n",
        "from src.train import train_and_evaluate, plot_loss_curves\n",
        "from importlib import reload\n",
        "\n",
        "import numpy as np\n",
        "import torch\n",
        "import matplotlib.pyplot as plt\n",
        "\n",
        "# Reload modules (use the module names directly, not the class/function names)\n",
        "# reload(src.pipeline)\n",
        "# reload(src.model)\n",
        "# reload(src.train)\n",
        "\n",
        "import numpy as np\n",
        "import torch\n",
        "import matplotlib.pyplot as plt\n",
        "print(\"Imports successful!\")"
      ],
      "metadata": {
        "colab": {
          "base_uri": "https://localhost:8080/"
        },
        "id": "1VgkcIa0ew95",
        "outputId": "60ccd10e-904c-4ec4-82ae-80d0cad18829"
      },
      "execution_count": 2,
      "outputs": [
        {
          "output_type": "stream",
          "name": "stdout",
          "text": [
            "Imports successful!\n"
          ]
        }
      ]
    },
    {
      "cell_type": "markdown",
      "source": [
        "## Run data pipeline:"
      ],
      "metadata": {
        "id": "gsfN2QMeMorG"
      }
    },
    {
      "cell_type": "code",
      "source": [
        "#Data loading and preprocessing\n",
        "image_dir = 'data/npy_images'\n",
        "label_path = 'data/properties/material_property.csv'\n",
        "batch_size = 16\n",
        "test_split = 0.1\n",
        "val_split = 0.1\n",
        "pipeline = DataPipeline(image_dir, label_path,batch_size, test_split, val_split)\n",
        "dataloaders = pipeline.load()\n",
        "train_loader = dataloaders['train']\n",
        "val_loader = dataloaders['val']"
      ],
      "metadata": {
        "id": "MXanRL5hLz3R"
      },
      "execution_count": 3,
      "outputs": []
    },
    {
      "cell_type": "markdown",
      "source": [
        "## Training configure:"
      ],
      "metadata": {
        "id": "Qiw5hsXGMsCt"
      }
    },
    {
      "cell_type": "code",
      "source": [
        "# Initialize the model, loss function, and optimizer\n",
        "sample_input, _ = next(iter(train_loader))\n",
        "_, c, h, w = sample_input.shape\n",
        "model = CNN(input_channels=c, input_height=h, input_width=w)\n",
        "loss = torch.nn.MSELoss()\n",
        "lr = 1e-4\n",
        "optimizer = torch.optim.Adam(model.parameters(), lr, weight_decay=1e-5)\n",
        "epochs = 100\n",
        "seed = 30"
      ],
      "metadata": {
        "id": "tiYbdYkgL08Z"
      },
      "execution_count": 4,
      "outputs": []
    },
    {
      "cell_type": "markdown",
      "source": [
        "## Training:"
      ],
      "metadata": {
        "id": "acb3vGoYMwad"
      }
    },
    {
      "cell_type": "code",
      "source": [
        "# Train the model\n",
        "train_losses, val_losses = train_and_evaluate(model, train_loader, val_loader, loss, optimizer, epochs, seed=30)\n",
        "# Plot training and validation loss curves\n",
        "plot_loss_curves(train_losses, val_losses)"
      ],
      "metadata": {
        "colab": {
          "base_uri": "https://localhost:8080/",
          "height": 1000
        },
        "id": "oyksM93XL2Kr",
        "outputId": "7980097b-d47a-4ead-e23a-8bfb3dbb0253"
      },
      "execution_count": 5,
      "outputs": [
        {
          "output_type": "stream",
          "name": "stdout",
          "text": [
            "Epoch 1/100, Train Loss: 1.0041, Val Loss: 1.0353\n",
            "Epoch 2/100, Train Loss: 0.9640, Val Loss: 0.7636\n",
            "Epoch 3/100, Train Loss: 0.1674, Val Loss: 0.0624\n",
            "Epoch 4/100, Train Loss: 0.0716, Val Loss: 0.0607\n",
            "Epoch 5/100, Train Loss: 0.0670, Val Loss: 0.0595\n",
            "Epoch 6/100, Train Loss: 0.0648, Val Loss: 0.0585\n",
            "Epoch 7/100, Train Loss: 0.0649, Val Loss: 0.0606\n",
            "Epoch 8/100, Train Loss: 0.0644, Val Loss: 0.0581\n",
            "Epoch 9/100, Train Loss: 0.0597, Val Loss: 0.0556\n",
            "Epoch 10/100, Train Loss: 0.0604, Val Loss: 0.0526\n",
            "Epoch 11/100, Train Loss: 0.0576, Val Loss: 0.0910\n",
            "Epoch 12/100, Train Loss: 0.0595, Val Loss: 0.0527\n",
            "Epoch 13/100, Train Loss: 0.0548, Val Loss: 0.0676\n",
            "Epoch 14/100, Train Loss: 0.0576, Val Loss: 0.0576\n",
            "Epoch 15/100, Train Loss: 0.0547, Val Loss: 0.0521\n",
            "Epoch 16/100, Train Loss: 0.0541, Val Loss: 0.0502\n",
            "Epoch 17/100, Train Loss: 0.0528, Val Loss: 0.0486\n",
            "Epoch 18/100, Train Loss: 0.0528, Val Loss: 0.0531\n",
            "Epoch 19/100, Train Loss: 0.0502, Val Loss: 0.0474\n",
            "Epoch 20/100, Train Loss: 0.0517, Val Loss: 0.0563\n",
            "Epoch 21/100, Train Loss: 0.0504, Val Loss: 0.0525\n",
            "Epoch 22/100, Train Loss: 0.0511, Val Loss: 0.0633\n",
            "Epoch 23/100, Train Loss: 0.0496, Val Loss: 0.0515\n",
            "Epoch 24/100, Train Loss: 0.0467, Val Loss: 0.0442\n",
            "Epoch 25/100, Train Loss: 0.0442, Val Loss: 0.0450\n",
            "Epoch 26/100, Train Loss: 0.0435, Val Loss: 0.0456\n",
            "Epoch 27/100, Train Loss: 0.0438, Val Loss: 0.0378\n",
            "Epoch 28/100, Train Loss: 0.0431, Val Loss: 0.0392\n",
            "Epoch 29/100, Train Loss: 0.0371, Val Loss: 0.0322\n",
            "Epoch 30/100, Train Loss: 0.0355, Val Loss: 0.0412\n",
            "Epoch 31/100, Train Loss: 0.0348, Val Loss: 0.0290\n",
            "Epoch 32/100, Train Loss: 0.0317, Val Loss: 0.0272\n",
            "Epoch 33/100, Train Loss: 0.0320, Val Loss: 0.0322\n",
            "Epoch 34/100, Train Loss: 0.0315, Val Loss: 0.0461\n",
            "Epoch 35/100, Train Loss: 0.0296, Val Loss: 0.0340\n",
            "Epoch 36/100, Train Loss: 0.0322, Val Loss: 0.0374\n",
            "Epoch 37/100, Train Loss: 0.0282, Val Loss: 0.0478\n",
            "Epoch 38/100, Train Loss: 0.0303, Val Loss: 0.0298\n",
            "Epoch 39/100, Train Loss: 0.0285, Val Loss: 0.0255\n",
            "Epoch 40/100, Train Loss: 0.0289, Val Loss: 0.0248\n",
            "Epoch 41/100, Train Loss: 0.0280, Val Loss: 0.0269\n",
            "Epoch 42/100, Train Loss: 0.0291, Val Loss: 0.0252\n",
            "Epoch 43/100, Train Loss: 0.0279, Val Loss: 0.0273\n",
            "Epoch 44/100, Train Loss: 0.0281, Val Loss: 0.0273\n",
            "Epoch 45/100, Train Loss: 0.0267, Val Loss: 0.0263\n",
            "Epoch 46/100, Train Loss: 0.0271, Val Loss: 0.0282\n",
            "Epoch 47/100, Train Loss: 0.0285, Val Loss: 0.0294\n",
            "Epoch 48/100, Train Loss: 0.0287, Val Loss: 0.0238\n",
            "Epoch 49/100, Train Loss: 0.0272, Val Loss: 0.0252\n",
            "Epoch 50/100, Train Loss: 0.0247, Val Loss: 0.0411\n",
            "Epoch 51/100, Train Loss: 0.0210, Val Loss: 0.0170\n",
            "Epoch 52/100, Train Loss: 0.0177, Val Loss: 0.0172\n",
            "Epoch 53/100, Train Loss: 0.0165, Val Loss: 0.0144\n",
            "Epoch 54/100, Train Loss: 0.0147, Val Loss: 0.0114\n",
            "Epoch 55/100, Train Loss: 0.0144, Val Loss: 0.0116\n",
            "Epoch 56/100, Train Loss: 0.0131, Val Loss: 0.0156\n",
            "Epoch 57/100, Train Loss: 0.0111, Val Loss: 0.0103\n",
            "Epoch 58/100, Train Loss: 0.0115, Val Loss: 0.0110\n",
            "Epoch 59/100, Train Loss: 0.0112, Val Loss: 0.0087\n",
            "Epoch 60/100, Train Loss: 0.0110, Val Loss: 0.0207\n",
            "Epoch 61/100, Train Loss: 0.0106, Val Loss: 0.0098\n",
            "Epoch 62/100, Train Loss: 0.0099, Val Loss: 0.0085\n",
            "Epoch 63/100, Train Loss: 0.0102, Val Loss: 0.0090\n",
            "Epoch 64/100, Train Loss: 0.0102, Val Loss: 0.0131\n",
            "Epoch 65/100, Train Loss: 0.0109, Val Loss: 0.0102\n",
            "Epoch 66/100, Train Loss: 0.0101, Val Loss: 0.0110\n",
            "Epoch 67/100, Train Loss: 0.0096, Val Loss: 0.0100\n",
            "Epoch 68/100, Train Loss: 0.0097, Val Loss: 0.0084\n",
            "Epoch 69/100, Train Loss: 0.0091, Val Loss: 0.0105\n",
            "Epoch 70/100, Train Loss: 0.0093, Val Loss: 0.0113\n",
            "Epoch 71/100, Train Loss: 0.0102, Val Loss: 0.0112\n",
            "Epoch 72/100, Train Loss: 0.0089, Val Loss: 0.0082\n",
            "Epoch 73/100, Train Loss: 0.0097, Val Loss: 0.0128\n",
            "Epoch 74/100, Train Loss: 0.0098, Val Loss: 0.0127\n",
            "Epoch 75/100, Train Loss: 0.0093, Val Loss: 0.0076\n",
            "Epoch 76/100, Train Loss: 0.0089, Val Loss: 0.0093\n",
            "Epoch 77/100, Train Loss: 0.0088, Val Loss: 0.0093\n",
            "Epoch 78/100, Train Loss: 0.0094, Val Loss: 0.0074\n",
            "Epoch 79/100, Train Loss: 0.0088, Val Loss: 0.0146\n",
            "Epoch 80/100, Train Loss: 0.0089, Val Loss: 0.0075\n",
            "Epoch 81/100, Train Loss: 0.0085, Val Loss: 0.0071\n",
            "Epoch 82/100, Train Loss: 0.0080, Val Loss: 0.0074\n",
            "Epoch 83/100, Train Loss: 0.0084, Val Loss: 0.0074\n",
            "Epoch 84/100, Train Loss: 0.0092, Val Loss: 0.0114\n",
            "Epoch 85/100, Train Loss: 0.0085, Val Loss: 0.0084\n",
            "Epoch 86/100, Train Loss: 0.0082, Val Loss: 0.0072\n",
            "Epoch 87/100, Train Loss: 0.0089, Val Loss: 0.0073\n",
            "Epoch 88/100, Train Loss: 0.0078, Val Loss: 0.0070\n",
            "Epoch 89/100, Train Loss: 0.0087, Val Loss: 0.0077\n",
            "Epoch 90/100, Train Loss: 0.0088, Val Loss: 0.0109\n",
            "Epoch 91/100, Train Loss: 0.0083, Val Loss: 0.0074\n",
            "Epoch 92/100, Train Loss: 0.0076, Val Loss: 0.0066\n",
            "Epoch 93/100, Train Loss: 0.0076, Val Loss: 0.0080\n",
            "Epoch 94/100, Train Loss: 0.0077, Val Loss: 0.0090\n",
            "Epoch 95/100, Train Loss: 0.0078, Val Loss: 0.0074\n",
            "Epoch 96/100, Train Loss: 0.0071, Val Loss: 0.0063\n",
            "Epoch 97/100, Train Loss: 0.0080, Val Loss: 0.0076\n",
            "Epoch 98/100, Train Loss: 0.0069, Val Loss: 0.0059\n",
            "Epoch 99/100, Train Loss: 0.0072, Val Loss: 0.0058\n",
            "Epoch 100/100, Train Loss: 0.0069, Val Loss: 0.0071\n"
          ]
        },
        {
          "output_type": "display_data",
          "data": {
            "text/plain": [
              "<Figure size 1000x500 with 1 Axes>"
            ],
            "image/png": "[encoded data removed]"
          },
          "metadata": {}
        }
      ]
    },
    {
      "cell_type": "code",
      "source": [
        "plt.plot(train_losses, label='Training Loss')\n",
        "plt.plot(val_losses, label='Validation Loss')\n",
        "plt.yscale('log')\n",
        "plt.xlabel('Epoch')\n",
        "plt.ylabel('Loss')\n",
        "plt.legend()\n",
        "plt.show()"
      ],
      "metadata": {
        "colab": {
          "base_uri": "https://localhost:8080/",
          "height": 449
        },
        "id": "ZifKM2BCZKIH",
        "outputId": "4aade712-6024-48c2-c428-70be9665fb67"
      },
      "execution_count": 6,
      "outputs": [
        {
          "output_type": "display_data",
          "data": {
            "text/plain": [
              "<Figure size 640x480 with 1 Axes>"
            ],
            "image/png": "[encoded data removed]"
          },
          "metadata": {}
        }
      ]
    },
    {
      "cell_type": "markdown",
      "source": [
        "## Evaluating model for train dataset:"
      ],
      "metadata": {
        "id": "VSKTF3jxMyre"
      }
    },
    {
      "cell_type": "code",
      "source": [
        "device = torch.device(\"cuda\" if torch.cuda.is_available() else \"cpu\")\n",
        "model.to(device)\n",
        "model.eval()\n",
        "\n",
        "all_predictions = []\n",
        "all_targets = []\n",
        "\n",
        "with torch.no_grad():\n",
        "    for batch_X, batch_y in train_loader:\n",
        "        batch_X = batch_X.to(device)\n",
        "        batch_y = batch_y.to(device)\n",
        "\n",
        "        outputs = model(batch_X).squeeze()\n",
        "        all_predictions.append(outputs.cpu())\n",
        "        all_targets.append(batch_y.cpu())\n",
        "\n",
        "    # Print first 10 predictions and targets\n",
        "    sample_preds = torch.cat(all_predictions)[:10]\n",
        "    sample_targets = torch.cat(all_targets)[:10]\n",
        "    print(\"Sample predictions:\\n\", sample_preds)\n",
        "    print(\"Corresponding targets:\\n\", sample_targets)\n",
        "\n",
        "# Concatenate everything on CPU after inference\n",
        "predictions = torch.cat(all_predictions).numpy()\n",
        "y_true = torch.cat(all_targets).numpy()\n",
        "\n",
        "# Reshape predictions to (N, 1) if they somehow became (N,)\n",
        "if predictions.ndim == 1:\n",
        "    predictions = predictions.reshape(-1, 1)\n",
        "# Reshape y_true to (N, 1) if it's (N,)\n",
        "if y_true.ndim == 1:\n",
        "    y_true = y_true.reshape(-1, 1)\n",
        "\n",
        "# Apply inverse normalization\n",
        "predictions = predictions * pipeline.y_std.item() + pipeline.y_mean.item()\n",
        "y_true = y_true * pipeline.y_std.item() + pipeline.y_mean.item()\n",
        "\n",
        "# Compute relative error and accuracy\n",
        "relative_errors = np.abs(predictions - y_true) / y_true\n",
        "within_30_percent = relative_errors < 0.30\n",
        "accuracy_30 = np.mean(within_30_percent)\n",
        "evaluation_metric = np.mean(relative_errors)\n",
        "\n",
        "print(f\"Evaluation Metric: {evaluation_metric:.2%}\")\n",
        "print(f\"Fraction within 30% error: {accuracy_30:.2%}\")"
      ],
      "metadata": {
        "id": "p2jEorvZL33Z",
        "colab": {
          "base_uri": "https://localhost:8080/"
        },
        "outputId": "9fb1e93c-f05f-4dce-afa4-35197ba4db9e"
      },
      "execution_count": 31,
      "outputs": [
        {
          "output_type": "stream",
          "name": "stdout",
          "text": [
            "Sample predictions:\n",
            " tensor([-1.2647, -1.4542,  0.7207, -0.9723,  0.8615, -1.2216, -1.1622, -1.1387,\n",
            "         1.4752, -0.7420])\n",
            "Corresponding targets:\n",
            " tensor([[-1.2133],\n",
            "        [-1.4099],\n",
            "        [ 0.6836],\n",
            "        [-0.9532],\n",
            "        [ 0.8031],\n",
            "        [-1.1914],\n",
            "        [-1.1659],\n",
            "        [-1.1742],\n",
            "        [ 1.7558],\n",
            "        [-0.7710]])\n",
            "Evaluation Metric: 2.18%\n",
            "Fraction within 30% error: 100.00%\n"
          ]
        }
      ]
    },
    {
      "cell_type": "markdown",
      "source": [
        "## Evaluating model for val dataset:"
      ],
      "metadata": {
        "id": "gdnxVlFQM1ZP"
      }
    },
    {
      "cell_type": "code",
      "source": [
        "device = torch.device(\"cuda\" if torch.cuda.is_available() else \"cpu\")\n",
        "model.to(device)\n",
        "model.eval()\n",
        "\n",
        "all_predictions = []\n",
        "all_targets = []\n",
        "\n",
        "with torch.no_grad():\n",
        "    for batch_X, batch_y in val_loader:\n",
        "        batch_X = batch_X.to(device)\n",
        "        batch_y = batch_y.to(device)\n",
        "\n",
        "        outputs = model(batch_X).squeeze()\n",
        "        all_predictions.append(outputs.cpu())\n",
        "        all_targets.append(batch_y.cpu())\n",
        "\n",
        "    # Print first 10 predictions and targets\n",
        "    sample_preds = torch.cat(all_predictions)[:10]\n",
        "    sample_targets = torch.cat(all_targets)[:10]\n",
        "    print(\"Sample predictions:\\n\", sample_preds)\n",
        "    print(\"Corresponding targets:\\n\", sample_targets)\n",
        "\n",
        "# Concatenate everything on CPU after inference\n",
        "predictions = torch.cat(all_predictions).numpy()\n",
        "y_true = torch.cat(all_targets).numpy()\n",
        "\n",
        "# Reshape predictions to (N, 1) if they somehow became (N,)\n",
        "if predictions.ndim == 1:\n",
        "    predictions = predictions.reshape(-1, 1)\n",
        "# Reshape y_true to (N, 1) if it's (N,)\n",
        "if y_true.ndim == 1:\n",
        "    y_true = y_true.reshape(-1, 1)\n",
        "\n",
        "# Apply inverse normalization\n",
        "predictions = predictions * pipeline.y_std.item() + pipeline.y_mean.item()\n",
        "y_true = y_true * pipeline.y_std.item() + pipeline.y_mean.item()\n",
        "\n",
        "# Compute relative error and accuracy\n",
        "relative_errors = np.abs(predictions - y_true) / y_true\n",
        "within_30_percent = relative_errors < 0.30\n",
        "accuracy_30 = np.mean(within_30_percent)\n",
        "evaluation_val_metric = np.mean(relative_errors)\n",
        "\n",
        "print(f\"Evaluation Metric: {evaluation_val_metric:.2%}\")\n",
        "print(f\"Fraction within 30% error: {accuracy_30:.2%}\")\n"
      ],
      "metadata": {
        "id": "OqSAsnCoL6I_",
        "colab": {
          "base_uri": "https://localhost:8080/"
        },
        "outputId": "70258504-2c2e-4f59-9694-d8186f72b66a"
      },
      "execution_count": 30,
      "outputs": [
        {
          "output_type": "stream",
          "name": "stdout",
          "text": [
            "Sample predictions:\n",
            " tensor([-0.7382,  0.6011,  1.5022,  1.4897, -0.2520, -0.7583, -0.6606, -1.3140,\n",
            "        -1.2449, -1.4341])\n",
            "Corresponding targets:\n",
            " tensor([[-0.7451],\n",
            "        [ 0.5730],\n",
            "        [ 1.4814],\n",
            "        [ 1.4007],\n",
            "        [-0.1853],\n",
            "        [-0.8240],\n",
            "        [-0.6205],\n",
            "        [-1.3129],\n",
            "        [-1.2328],\n",
            "        [-1.4048]])\n",
            "Evaluation Metric: 2.27%\n",
            "Fraction within 30% error: 100.00%\n"
          ]
        }
      ]
    },
    {
      "cell_type": "markdown",
      "source": [
        "## Saving model weights:"
      ],
      "metadata": {
        "id": "noJL-VW3p8B7"
      }
    },
    {
      "cell_type": "code",
      "source": [
        "!pwd"
      ],
      "metadata": {
        "colab": {
          "base_uri": "https://localhost:8080/"
        },
        "id": "X3ffr9zwp-cn",
        "outputId": "c3144cb7-5cec-4b4f-85ea-2c088928f869"
      },
      "execution_count": 32,
      "outputs": [
        {
          "output_type": "stream",
          "name": "stdout",
          "text": [
            "/content/Microstructure-Predictions\n"
          ]
        }
      ]
    },
    {
      "cell_type": "code",
      "source": [
        "# Define the path where you want to save the weights\n",
        "PATH = 'data/models/model_weights.pth'\n",
        "\n",
        "# Save only the state_dict\n",
        "torch.save(model.state_dict(), PATH)\n",
        "\n",
        "print(f\"Model weights saved to {PATH}\")"
      ],
      "metadata": {
        "colab": {
          "base_uri": "https://localhost:8080/"
        },
        "id": "X7kPa05_p9Yr",
        "outputId": "cf1f11d9-ba31-43e2-c78a-76b19a1c564b"
      },
      "execution_count": 34,
      "outputs": [
        {
          "output_type": "stream",
          "name": "stdout",
          "text": [
            "Model weights saved to data/models/model_weights.pth\n"
          ]
        }
      ]
    }
  ]
}